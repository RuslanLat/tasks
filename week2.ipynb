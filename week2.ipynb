{
 "cells": [
  {
   "cell_type": "markdown",
   "metadata": {},
   "source": [
    "### Задание 1\n",
    "Написать программу с модулями: класс итератор для чисел фибоначчи, написать аналогичный генератор"
   ]
  },
  {
   "cell_type": "code",
   "execution_count": 4,
   "metadata": {},
   "outputs": [],
   "source": [
    "# импорт класса итератор для чисел фибоначчи\n",
    "from fibonacci import  FibIterator"
   ]
  },
  {
   "cell_type": "code",
   "execution_count": 5,
   "metadata": {},
   "outputs": [
    {
     "name": "stdout",
     "output_type": "stream",
     "text": [
      "0 1 1 2 3 5 8 13 21 34 55 89 "
     ]
    }
   ],
   "source": [
    "# вычисление чисел фибоначчи\n",
    "for n in FibIterator(100):\n",
    "    print(n, end=\" \")"
   ]
  },
  {
   "cell_type": "markdown",
   "metadata": {},
   "source": [
    "### Задание 2\n",
    "Написать декоратор для функции, выводящий основную информацию о ней, время выполнения, делающий обработку некорректных переданных параметров."
   ]
  },
  {
   "cell_type": "markdown",
   "metadata": {},
   "source": []
  },
  {
   "cell_type": "markdown",
   "metadata": {},
   "source": [
    "### Задание 3\n",
    "Написать модуль используя python-crontab: добавить выполнение в планировщик вашего скрипта \\\n",
    "(т.е. модуля, сделать его выполняемым с помощью python) каждые 3 часа, каждый день в 15:15, \\\n",
    "каждое вс в полночь(3 отдельные jobs). Оформить модули в пакет."
   ]
  },
  {
   "cell_type": "code",
   "execution_count": null,
   "metadata": {},
   "outputs": [],
   "source": []
  },
  {
   "cell_type": "markdown",
   "metadata": {},
   "source": [
    "### Задание 4\n",
    "Написать файл для сборки пакета (setup.py). \\\n",
    "Собрать и установить пакет в вашей дев-площадке (в вирт. окружение). \\\n",
    "Приложить скриншот об успешной установке пакета."
   ]
  }
 ],
 "metadata": {
  "kernelspec": {
   "display_name": "venv",
   "language": "python",
   "name": "python3"
  },
  "language_info": {
   "codemirror_mode": {
    "name": "ipython",
    "version": 3
   },
   "file_extension": ".py",
   "mimetype": "text/x-python",
   "name": "python",
   "nbconvert_exporter": "python",
   "pygments_lexer": "ipython3",
   "version": "3.11.3"
  }
 },
 "nbformat": 4,
 "nbformat_minor": 2
}
