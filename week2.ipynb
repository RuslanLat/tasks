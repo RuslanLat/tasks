{
 "cells": [
  {
   "cell_type": "markdown",
   "metadata": {},
   "source": [
    "### Задание 1\n",
    "Написать программу с модулями: класс итератор для чисел фибоначчи, написать аналогичный генератор"
   ]
  },
  {
   "cell_type": "code",
   "execution_count": 1,
   "metadata": {},
   "outputs": [],
   "source": [
    "# импорт класса итератор для чисел фибоначчи\n",
    "from fibonacci import  FibIterator, FibonacciIterator"
   ]
  },
  {
   "cell_type": "code",
   "execution_count": 2,
   "metadata": {},
   "outputs": [],
   "source": [
    "fibo = FibIterator(10) # итерируемый объект"
   ]
  },
  {
   "cell_type": "code",
   "execution_count": 5,
   "metadata": {},
   "outputs": [
    {
     "name": "stdout",
     "output_type": "stream",
     "text": [
      "0 1 1 2 3 5 8 13 21 34 "
     ]
    }
   ],
   "source": [
    "# вычисление чисел фибоначчи\n",
    "for number in fibo:\n",
    "    print(number, end=\" \")"
   ]
  },
  {
   "cell_type": "code",
   "execution_count": 6,
   "metadata": {},
   "outputs": [],
   "source": [
    "# импорт класса генератора для чисел фибоначчи\n",
    "from fibonacci import FibGenerator"
   ]
  },
  {
   "cell_type": "code",
   "execution_count": 7,
   "metadata": {},
   "outputs": [
    {
     "data": {
      "text/plain": [
       "[0, 1, 1, 2, 3, 5, 8, 13, 21, 34]"
      ]
     },
     "execution_count": 7,
     "metadata": {},
     "output_type": "execute_result"
    }
   ],
   "source": [
    "# вычисление чисел фибоначчи\n",
    "list(FibGenerator(10).fib())"
   ]
  },
  {
   "cell_type": "markdown",
   "metadata": {},
   "source": [
    "### Задание 2\n",
    "Написать декоратор для функции, выводящий основную информацию о ней, время выполнения, делающий обработку некорректных переданных параметров."
   ]
  },
  {
   "cell_type": "code",
   "execution_count": 43,
   "metadata": {},
   "outputs": [],
   "source": [
    "import time"
   ]
  },
  {
   "cell_type": "code",
   "execution_count": 44,
   "metadata": {},
   "outputs": [],
   "source": [
    "# декоратор для функции, выводящий информацию о функции, ее аргументе и времени выполнения\n",
    "def param_transfer(fn):\n",
    "    def wrapper(arg):\n",
    "        print(\"Run function: \" + str(fn.__name__) + \"(), with param: \" + str(arg))\n",
    "        if type(arg) not in [int, float]:\n",
    "            print(\"TypeError, не правильный тип данных\")\n",
    "        else:\n",
    "            start_time = time.time()\n",
    "            fn(arg)\n",
    "            end_time = time.time()\n",
    "            # разница между конечным и начальным временем\n",
    "            elapsed_time = end_time - start_time\n",
    "            print(\"Elapsed time: \", elapsed_time)\n",
    "    return wrapper"
   ]
  },
  {
   "cell_type": "code",
   "execution_count": 45,
   "metadata": {},
   "outputs": [],
   "source": [
    "# функция, которая выводит квадратный корень\n",
    "@param_transfer\n",
    "def print_sqrt(num):\n",
    "    print(num**0.5)"
   ]
  },
  {
   "cell_type": "code",
   "execution_count": 46,
   "metadata": {},
   "outputs": [
    {
     "name": "stdout",
     "output_type": "stream",
     "text": [
      "Run function: print_sqrt(), with param: 4\n",
      "TypeError, не правильный тип данных\n"
     ]
    }
   ],
   "source": [
    "# тест функции и декоратора\n",
    "print_sqrt(\"4\")"
   ]
  },
  {
   "cell_type": "code",
   "execution_count": 47,
   "metadata": {},
   "outputs": [
    {
     "name": "stdout",
     "output_type": "stream",
     "text": [
      "Run function: print_sqrt(), with param: 4\n",
      "2.0\n",
      "Elapsed time:  0.0\n"
     ]
    }
   ],
   "source": [
    "# тест функции и декоратора\n",
    "print_sqrt(4)"
   ]
  },
  {
   "cell_type": "markdown",
   "metadata": {},
   "source": [
    "### Задание 3\n",
    "Написать модуль используя python-crontab: добавить выполнение в планировщик вашего скрипта \\\n",
    "(т.е. модуля, сделать его выполняемым с помощью python) каждые 3 часа, каждый день в 15:15, \\\n",
    "каждое вс в полночь(3 отдельные jobs). Оформить модули в пакет."
   ]
  },
  {
   "cell_type": "code",
   "execution_count": null,
   "metadata": {},
   "outputs": [],
   "source": []
  },
  {
   "cell_type": "markdown",
   "metadata": {},
   "source": [
    "### Задание 4\n",
    "Написать файл для сборки пакета (setup.py). \\\n",
    "Собрать и установить пакет в вашей дев-площадке (в вирт. окружение). \\\n",
    "Приложить скриншот об успешной установке пакета."
   ]
  }
 ],
 "metadata": {
  "kernelspec": {
   "display_name": "venv",
   "language": "python",
   "name": "python3"
  },
  "language_info": {
   "codemirror_mode": {
    "name": "ipython",
    "version": 3
   },
   "file_extension": ".py",
   "mimetype": "text/x-python",
   "name": "python",
   "nbconvert_exporter": "python",
   "pygments_lexer": "ipython3",
   "version": "3.11.3"
  }
 },
 "nbformat": 4,
 "nbformat_minor": 2
}
